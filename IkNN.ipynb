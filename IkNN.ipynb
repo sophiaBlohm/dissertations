{
 "cells": [
  {
   "cell_type": "code",
   "execution_count": 2,
   "id": "98ca793c",
   "metadata": {},
   "outputs": [
    {
     "data": {
      "text/plain": [
       "occupancy          -0.898157\n",
       "PowerConsumption    0.014392\n",
       "NormalizedPower     0.014392\n",
       "QuantizedPower      0.032377\n",
       "MicroMoments        1.000000\n",
       "Name: MicroMoments, dtype: float64"
      ]
     },
     "execution_count": 2,
     "metadata": {},
     "output_type": "execute_result"
    }
   ],
   "source": [
    "import pandas as pd\n",
    "import numpy as np\n",
    "import glob\n",
    "import os\n",
    "from sklearn.linear_model import LogisticRegression\n",
    "from sklearn.svm import SVC\n",
    "from sklearn.ensemble import RandomForestClassifier\n",
    "from sklearn.datasets import load_digits\n",
    "from sklearn.model_selection import train_test_split\n",
    "from sklearn.model_selection import KFold\n",
    "from sklearn.model_selection import StratifiedKFold\n",
    "from sklearn.model_selection import cross_val_score\n",
    "from sklearn.neighbors import KNeighborsClassifier\n",
    "import statistics as st\n",
    "from sklearn.model_selection import GridSearchCV\n",
    "from math import sqrt\n",
    "from sklearn.feature_selection import mutual_info_classif\n",
    "import tensorflow as tf\n",
    "from tensorflow import keras\n",
    "\n",
    "qud = pd.read_csv(r\"C:\\Users\\sophi\\Dokumente\\Studium\\Wirtschaft\\Bachelorarbeit\\Datasets\\QUD-dataset-master\\QUD-dataset-master\\QUD_app-1 (desktop).csv\")\n",
    "correlation_matrix = qud.corr()\n",
    "correlation_matrix[\"MicroMoments\"]"
   ]
  },
  {
   "cell_type": "code",
   "execution_count": 5,
   "id": "536c941a",
   "metadata": {},
   "outputs": [],
   "source": [
    "qud_Xy = qud.iloc[:, 3:8]\n",
    "qud_X = qud.iloc[:, 3:7]\n",
    "qud_y = qud.MicroMoments\n",
    "parameters = {\"n_neighbors\": range(1, 20)}"
   ]
  },
  {
   "cell_type": "markdown",
   "id": "6068df99",
   "metadata": {},
   "source": [
    "### Information Gain"
   ]
  },
  {
   "cell_type": "code",
   "execution_count": 4,
   "id": "8e736be7",
   "metadata": {},
   "outputs": [
    {
     "name": "stdout",
     "output_type": "stream",
     "text": [
      "[0.51921121 0.53726355 0.53629259 0.15745495]\n"
     ]
    }
   ],
   "source": [
    "attr_weights = mutual_info_classif(qud_X, qud_y)\n",
    "print(attr_weights)"
   ]
  },
  {
   "cell_type": "markdown",
   "id": "1badba0e",
   "metadata": {},
   "source": [
    "### finding k"
   ]
  },
  {
   "cell_type": "code",
   "execution_count": 5,
   "id": "72c84202",
   "metadata": {},
   "outputs": [
    {
     "name": "stdout",
     "output_type": "stream",
     "text": [
      "3\n"
     ]
    }
   ],
   "source": [
    "gridsearch = GridSearchCV(KNeighborsClassifier(), parameters)\n",
    "gridsearch.fit(qud_X, qud_y)\n",
    "k = gridsearch.best_params_[\"n_neighbors\"]\n",
    "print(k)"
   ]
  },
  {
   "cell_type": "markdown",
   "id": "cc46488a",
   "metadata": {},
   "source": [
    "### scores 10-fold-cv KNN "
   ]
  },
  {
   "cell_type": "code",
   "execution_count": 6,
   "id": "60a161cc",
   "metadata": {},
   "outputs": [
    {
     "name": "stdout",
     "output_type": "stream",
     "text": [
      "0.9933518005540166\n"
     ]
    }
   ],
   "source": [
    "scores_kNN = cross_val_score(\n",
    "    KNeighborsClassifier(n_neighbors=3),\n",
    "    qud_X, qud_y, cv=10)\n",
    "\n",
    "print(st.mean(scores_kNN))"
   ]
  },
  {
   "cell_type": "code",
   "execution_count": 7,
   "id": "5a81112d",
   "metadata": {},
   "outputs": [
    {
     "name": "stdout",
     "output_type": "stream",
     "text": [
      "0.992265075644577\n"
     ]
    }
   ],
   "source": [
    "### without optimal k\n",
    "scores_kNN = cross_val_score(\n",
    "    KNeighborsClassifier(),\n",
    "    qud_X, qud_y, cv=10)\n",
    "\n",
    "print(st.mean(scores_kNN))"
   ]
  },
  {
   "cell_type": "code",
   "execution_count": 6,
   "id": "115a2dae",
   "metadata": {},
   "outputs": [
    {
     "name": "stdout",
     "output_type": "stream",
     "text": [
      "0.985256430496104\n"
     ]
    }
   ],
   "source": [
    "### F1\n",
    "\n",
    "from sklearn.metrics import f1_score\n",
    "kNN =  KNeighborsClassifier(n_neighbors=3)\n",
    "scores_kNN = cross_val_score(kNN, qud_X, qud_y, cv=10, scoring= 'f1_macro')\n",
    "\n",
    "print(st.mean(scores_kNN))"
   ]
  },
  {
   "cell_type": "markdown",
   "id": "0afc6841",
   "metadata": {},
   "source": [
    "## p value\n"
   ]
  },
  {
   "cell_type": "code",
   "execution_count": 11,
   "id": "0e45d12a",
   "metadata": {},
   "outputs": [
    {
     "data": {
      "text/plain": [
       "0.00398406374501992"
      ]
     },
     "execution_count": 11,
     "metadata": {},
     "output_type": "execute_result"
    }
   ],
   "source": [
    "from sklearn.model_selection import permutation_test_score\n",
    "\n",
    "cv= StratifiedKFold(2, shuffle=True, random_state=0)\n",
    "score, perm_scores, pvalue = permutation_test_score(kNN, qud_X, qud_y, cv=cv, n_permutations=500)\n",
    "\n",
    "pvalue"
   ]
  },
  {
   "cell_type": "code",
   "execution_count": null,
   "id": "be892f8a",
   "metadata": {},
   "outputs": [],
   "source": []
  }
 ],
 "metadata": {
  "kernelspec": {
   "display_name": "Python 3 (ipykernel)",
   "language": "python",
   "name": "python3"
  },
  "language_info": {
   "codemirror_mode": {
    "name": "ipython",
    "version": 3
   },
   "file_extension": ".py",
   "mimetype": "text/x-python",
   "name": "python",
   "nbconvert_exporter": "python",
   "pygments_lexer": "ipython3",
   "version": "3.9.6"
  }
 },
 "nbformat": 4,
 "nbformat_minor": 5
}
